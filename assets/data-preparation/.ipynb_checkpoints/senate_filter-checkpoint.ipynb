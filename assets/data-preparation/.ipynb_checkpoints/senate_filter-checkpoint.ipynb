{
 "cells": [
  {
   "cell_type": "code",
   "execution_count": 76,
   "metadata": {
    "collapsed": true
   },
   "outputs": [],
   "source": [
    "import pandas as pd\n",
    "from pandas import DataFrame\n",
    "\n",
    "df= pd.read_csv(\"senate.csv\")\n"
   ]
  },
  {
   "cell_type": "code",
   "execution_count": 77,
   "metadata": {
    "collapsed": false
   },
   "outputs": [
    {
     "name": "stdout",
     "output_type": "stream",
     "text": [
      "Index([u'cycle', u'transaction_namespace', u'transaction_id',\n",
      "       u'transaction_type', u'transaction_type_description', u'filing_id',\n",
      "       u'is_amendment', u'amount', u'date', u'contributor_name',\n",
      "       u'contributor_ext_id', u'contributor_type', u'contributor_occupation',\n",
      "       u'contributor_employer', u'contributor_gender', u'contributor_address',\n",
      "       u'contributor_city', u'contributor_state', u'contributor_zipcode',\n",
      "       u'contributor_category', u'organization_name', u'organization_ext_id',\n",
      "       u'parent_organization_name', u'parent_organization_ext_id',\n",
      "       u'recipient_name', u'recipient_ext_id', u'recipient_party',\n",
      "       u'recipient_type', u'recipient_state', u'recipient_state_held',\n",
      "       u'recipient_category', u'committee_name', u'committee_ext_id',\n",
      "       u'committee_party', u'candidacy_status', u'district', u'district_held',\n",
      "       u'seat', u'seat_held', u'seat_status', u'seat_result'],\n",
      "      dtype='object')\n"
     ]
    }
   ],
   "source": [
    "print(df.columns)"
   ]
  },
  {
   "cell_type": "code",
   "execution_count": 78,
   "metadata": {
    "collapsed": false
   },
   "outputs": [
    {
     "name": "stdout",
     "output_type": "stream",
     "text": [
      "Index([u'amount', u'date', u'contributor_name', u'contributor_zipcode',\n",
      "       u'recipient_name', u'recipient_party'],\n",
      "      dtype='object')\n"
     ]
    }
   ],
   "source": [
    "# delete unnecessary data\n",
    "df.drop(df.columns[[0,1,2,3,4,5,6,10,11,12,13,14,15, 16, 17, 19,20,21,22,23,25, 27,28,29,30,31,32,33,34,35,36,37,38,39,40]], axis=1, inplace=True)\n",
    "print(df.columns)"
   ]
  },
  {
   "cell_type": "code",
   "execution_count": 79,
   "metadata": {
    "collapsed": false
   },
   "outputs": [
    {
     "data": {
      "text/html": [
       "<div>\n",
       "<table border=\"1\" class=\"dataframe\">\n",
       "  <thead>\n",
       "    <tr style=\"text-align: right;\">\n",
       "      <th></th>\n",
       "      <th>amount</th>\n",
       "      <th>date</th>\n",
       "      <th>contributor_name</th>\n",
       "      <th>contributor_zipcode</th>\n",
       "      <th>recipient_name</th>\n",
       "      <th>recipient_party</th>\n",
       "    </tr>\n",
       "  </thead>\n",
       "  <tbody>\n",
       "    <tr>\n",
       "      <th>0</th>\n",
       "      <td>30000</td>\n",
       "      <td>2013-09-30</td>\n",
       "      <td>McCaskill Senate Fund</td>\n",
       "      <td>63130</td>\n",
       "      <td>Claire McCaskill (D)</td>\n",
       "      <td>D</td>\n",
       "    </tr>\n",
       "    <tr>\n",
       "      <th>1</th>\n",
       "      <td>30000</td>\n",
       "      <td>2013-10-03</td>\n",
       "      <td>McCaskill Senate Fund</td>\n",
       "      <td>63130</td>\n",
       "      <td>Claire McCaskill (D)</td>\n",
       "      <td>D</td>\n",
       "    </tr>\n",
       "    <tr>\n",
       "      <th>2</th>\n",
       "      <td>25000</td>\n",
       "      <td>2013-06-25</td>\n",
       "      <td>Todd Akin for Senate</td>\n",
       "      <td>63038</td>\n",
       "      <td>Todd Akin (R)</td>\n",
       "      <td>R</td>\n",
       "    </tr>\n",
       "    <tr>\n",
       "      <th>3</th>\n",
       "      <td>22221</td>\n",
       "      <td>2013-06-30</td>\n",
       "      <td>Brunner for Senate</td>\n",
       "      <td>63141</td>\n",
       "      <td>John Brunner (R)</td>\n",
       "      <td>R</td>\n",
       "    </tr>\n",
       "    <tr>\n",
       "      <th>4</th>\n",
       "      <td>20000</td>\n",
       "      <td>2014-01-14</td>\n",
       "      <td>McCaskill for Missouri</td>\n",
       "      <td>63130</td>\n",
       "      <td>Claire McCaskill (D)</td>\n",
       "      <td>D</td>\n",
       "    </tr>\n",
       "    <tr>\n",
       "      <th>5</th>\n",
       "      <td>15000</td>\n",
       "      <td>2013-12-31</td>\n",
       "      <td>McCaskill Senate Fund</td>\n",
       "      <td>63130</td>\n",
       "      <td>Claire McCaskill (D)</td>\n",
       "      <td>D</td>\n",
       "    </tr>\n",
       "    <tr>\n",
       "      <th>6</th>\n",
       "      <td>15000</td>\n",
       "      <td>2013-12-31</td>\n",
       "      <td>McCaskill Senate Fund</td>\n",
       "      <td>63130</td>\n",
       "      <td>Claire McCaskill (D)</td>\n",
       "      <td>D</td>\n",
       "    </tr>\n",
       "    <tr>\n",
       "      <th>7</th>\n",
       "      <td>14000</td>\n",
       "      <td>2013-11-20</td>\n",
       "      <td>Missouri Senate</td>\n",
       "      <td>20002</td>\n",
       "      <td>Claire McCaskill (D)</td>\n",
       "      <td>D</td>\n",
       "    </tr>\n",
       "    <tr>\n",
       "      <th>8</th>\n",
       "      <td>14000</td>\n",
       "      <td>2013-10-31</td>\n",
       "      <td>Missouri Senate</td>\n",
       "      <td>63130</td>\n",
       "      <td>Claire McCaskill (D)</td>\n",
       "      <td>D</td>\n",
       "    </tr>\n",
       "    <tr>\n",
       "      <th>9</th>\n",
       "      <td>12000</td>\n",
       "      <td>2013-12-18</td>\n",
       "      <td>Missouri Victory Fund</td>\n",
       "      <td>63130</td>\n",
       "      <td>Claire McCaskill (D)</td>\n",
       "      <td>D</td>\n",
       "    </tr>\n",
       "  </tbody>\n",
       "</table>\n",
       "</div>"
      ],
      "text/plain": [
       "   amount        date        contributor_name  contributor_zipcode  \\\n",
       "0   30000  2013-09-30   McCaskill Senate Fund                63130   \n",
       "1   30000  2013-10-03   McCaskill Senate Fund                63130   \n",
       "2   25000  2013-06-25    Todd Akin for Senate                63038   \n",
       "3   22221  2013-06-30      Brunner for Senate                63141   \n",
       "4   20000  2014-01-14  McCaskill for Missouri                63130   \n",
       "5   15000  2013-12-31   McCaskill Senate Fund                63130   \n",
       "6   15000  2013-12-31   McCaskill Senate Fund                63130   \n",
       "7   14000  2013-11-20         Missouri Senate                20002   \n",
       "8   14000  2013-10-31         Missouri Senate                63130   \n",
       "9   12000  2013-12-18   Missouri Victory Fund                63130   \n",
       "\n",
       "         recipient_name recipient_party  \n",
       "0  Claire McCaskill (D)               D  \n",
       "1  Claire McCaskill (D)               D  \n",
       "2         Todd Akin (R)               R  \n",
       "3      John Brunner (R)               R  \n",
       "4  Claire McCaskill (D)               D  \n",
       "5  Claire McCaskill (D)               D  \n",
       "6  Claire McCaskill (D)               D  \n",
       "7  Claire McCaskill (D)               D  \n",
       "8  Claire McCaskill (D)               D  \n",
       "9  Claire McCaskill (D)               D  "
      ]
     },
     "execution_count": 79,
     "metadata": {},
     "output_type": "execute_result"
    }
   ],
   "source": [
    "df.head(10)"
   ]
  },
  {
   "cell_type": "code",
   "execution_count": 80,
   "metadata": {
    "collapsed": false
   },
   "outputs": [
    {
     "name": "stdout",
     "output_type": "stream",
     "text": [
      "                                       amount\n",
      "recipient_name       recipient_party         \n",
      "Claire McCaskill (D) D                501.687\n"
     ]
    }
   ],
   "source": [
    "# sort democrats\n",
    "dataD = df[df.recipient_party.str.contains('D').fillna(False)]\n",
    "dataD = dataD.groupby(['recipient_name', \"recipient_party\"])[['amount']].sum()\n",
    "dataD['amount'] = dataD['amount'] / 1000\n",
    "print dataD.head(30)"
   ]
  },
  {
   "cell_type": "code",
   "execution_count": 81,
   "metadata": {
    "collapsed": false,
    "scrolled": true
   },
   "outputs": [
    {
     "name": "stdout",
     "output_type": "stream",
     "text": [
      "                                         amount\n",
      "recipient_name        recipient_party          \n",
      "John Brunner (R)      R                  29.721\n",
      "Roy Blunt (R)         R                2262.120\n",
      "Sarah H. Steelman (R) R                   9.000\n",
      "Todd Akin (R)         R                 133.195\n"
     ]
    }
   ],
   "source": [
    "# sort republicans\n",
    "dataR = df[df.recipient_party.str.contains('R').fillna(False)]\n",
    "dataR = dataR.groupby(['recipient_name', \"recipient_party\"])[['amount']].sum()\n",
    "dataR['amount'] = dataR['amount'] / 1000\n",
    "print dataR.head(30)"
   ]
  },
  {
   "cell_type": "code",
   "execution_count": 82,
   "metadata": {
    "collapsed": false
   },
   "outputs": [],
   "source": [
    "SDcsv = dataD.to_csv(\"SD.csv\")\n",
    "SRcsv = dataR.to_csv(\"SR.csv\")\n"
   ]
  },
  {
   "cell_type": "code",
   "execution_count": null,
   "metadata": {
    "collapsed": true
   },
   "outputs": [],
   "source": []
  }
 ],
 "metadata": {
  "kernelspec": {
   "display_name": "Python 2",
   "language": "python",
   "name": "python2"
  },
  "language_info": {
   "codemirror_mode": {
    "name": "ipython",
    "version": 2
   },
   "file_extension": ".py",
   "mimetype": "text/x-python",
   "name": "python",
   "nbconvert_exporter": "python",
   "pygments_lexer": "ipython2",
   "version": "2.7.10"
  }
 },
 "nbformat": 4,
 "nbformat_minor": 0
}
