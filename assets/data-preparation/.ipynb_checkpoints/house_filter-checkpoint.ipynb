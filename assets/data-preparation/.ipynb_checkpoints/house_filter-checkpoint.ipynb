{
 "cells": [
  {
   "cell_type": "code",
   "execution_count": 63,
   "metadata": {
    "collapsed": false
   },
   "outputs": [
    {
     "name": "stdout",
     "output_type": "stream",
     "text": [
      "Index([u'Unnamed: 0', u'amount', u'candidacy_status', u'committee_ext_id',\n",
      "       u'committee_name', u'committee_party', u'contributor_address',\n",
      "       u'contributor_category', u'contributor_city', u'contributor_employer',\n",
      "       u'contributor_ext_id', u'contributor_gender', u'contributor_name',\n",
      "       u'contributor_occupation', u'contributor_state', u'contributor_type',\n",
      "       u'contributor_zipcode', u'cycle', u'date', u'district',\n",
      "       u'district_held', u'filing_id', u'is_amendment', u'organization_ext_id',\n",
      "       u'organization_name', u'parent_organization_ext_id',\n",
      "       u'parent_organization_name', u'recipient_category', u'recipient_ext_id',\n",
      "       u'recipient_name', u'recipient_party', u'recipient_state',\n",
      "       u'recipient_state_held', u'recipient_type', u'seat', u'seat_held',\n",
      "       u'seat_result', u'seat_status', u'transaction_id',\n",
      "       u'transaction_namespace', u'transaction_type',\n",
      "       u'transaction_type_description'],\n",
      "      dtype='object')\n"
     ]
    }
   ],
   "source": [
    "import pandas as pd\n",
    "from pandas import DataFrame\n",
    "\n",
    "df = pd.read_csv(\"house.csv\")\n",
    "print(df.columns)"
   ]
  },
  {
   "cell_type": "code",
   "execution_count": 64,
   "metadata": {
    "collapsed": false
   },
   "outputs": [
    {
     "name": "stdout",
     "output_type": "stream",
     "text": [
      "Index([u'amount', u'contributor_name', u'contributor_zipcode', u'date',\n",
      "       u'recipient_name', u'recipient_party'],\n",
      "      dtype='object')\n"
     ]
    }
   ],
   "source": [
    "# delete unnecessary data\n",
    "df.drop(df.columns[[0,2,3,4,5,6,7,8,9,10,11,13,14,15,17,19,20,21,22,23,24,25,26, 27,28,31,32,33,34,35,36,37,38,39,40,41]], axis=1, inplace=True)\n",
    "print(df.columns)"
   ]
  },
  {
   "cell_type": "code",
   "execution_count": 65,
   "metadata": {
    "collapsed": false
   },
   "outputs": [
    {
     "data": {
      "text/html": [
       "<div>\n",
       "<table border=\"1\" class=\"dataframe\">\n",
       "  <thead>\n",
       "    <tr style=\"text-align: right;\">\n",
       "      <th></th>\n",
       "      <th>amount</th>\n",
       "      <th>contributor_name</th>\n",
       "      <th>contributor_zipcode</th>\n",
       "      <th>date</th>\n",
       "      <th>recipient_name</th>\n",
       "      <th>recipient_party</th>\n",
       "    </tr>\n",
       "  </thead>\n",
       "  <tbody>\n",
       "    <tr>\n",
       "      <th>0</th>\n",
       "      <td>40000</td>\n",
       "      <td>Evans, James S</td>\n",
       "      <td>65738</td>\n",
       "      <td>2014-03-07</td>\n",
       "      <td>James S. Evans (D)</td>\n",
       "      <td>D</td>\n",
       "    </tr>\n",
       "    <tr>\n",
       "      <th>1</th>\n",
       "      <td>30000</td>\n",
       "      <td>LIEBER, ARTHUR H</td>\n",
       "      <td>63141</td>\n",
       "      <td>2014-10-09</td>\n",
       "      <td>Arthur Henry Lieber (D)</td>\n",
       "      <td>D</td>\n",
       "    </tr>\n",
       "    <tr>\n",
       "      <th>2</th>\n",
       "      <td>15000</td>\n",
       "      <td>Friends of Jim Evans</td>\n",
       "      <td>65738</td>\n",
       "      <td>2014-11-20</td>\n",
       "      <td>James S. Evans (D)</td>\n",
       "      <td>D</td>\n",
       "    </tr>\n",
       "    <tr>\n",
       "      <th>3</th>\n",
       "      <td>15000</td>\n",
       "      <td>Hedge, Bill</td>\n",
       "      <td>64506</td>\n",
       "      <td>2014-10-24</td>\n",
       "      <td>Bill Hedge (D)</td>\n",
       "      <td>D</td>\n",
       "    </tr>\n",
       "    <tr>\n",
       "      <th>4</th>\n",
       "      <td>12118</td>\n",
       "      <td>Susan B Anthony List</td>\n",
       "      <td>NaN</td>\n",
       "      <td>2014-04-04</td>\n",
       "      <td>Vicky Hartzler (R)</td>\n",
       "      <td>R</td>\n",
       "    </tr>\n",
       "    <tr>\n",
       "      <th>5</th>\n",
       "      <td>10400</td>\n",
       "      <td>WARD, THOMAS</td>\n",
       "      <td>64112</td>\n",
       "      <td>2013-09-30</td>\n",
       "      <td>Vicky Hartzler (R)</td>\n",
       "      <td>R</td>\n",
       "    </tr>\n",
       "    <tr>\n",
       "      <th>6</th>\n",
       "      <td>10000</td>\n",
       "      <td>JACOBY, TED</td>\n",
       "      <td>63127</td>\n",
       "      <td>2013-03-25</td>\n",
       "      <td>Vicky Hartzler (R)</td>\n",
       "      <td>R</td>\n",
       "    </tr>\n",
       "    <tr>\n",
       "      <th>7</th>\n",
       "      <td>10000</td>\n",
       "      <td>Stocker, Barbara Hamill</td>\n",
       "      <td>63020</td>\n",
       "      <td>2014-03-04</td>\n",
       "      <td>Barbara Hamill Stocker (D)</td>\n",
       "      <td>D</td>\n",
       "    </tr>\n",
       "    <tr>\n",
       "      <th>8</th>\n",
       "      <td>10000</td>\n",
       "      <td>HOWSER, DONALD</td>\n",
       "      <td>65203</td>\n",
       "      <td>2013-02-25</td>\n",
       "      <td>Vicky Hartzler (R)</td>\n",
       "      <td>R</td>\n",
       "    </tr>\n",
       "    <tr>\n",
       "      <th>9</th>\n",
       "      <td>9000</td>\n",
       "      <td>Hedge, Bill</td>\n",
       "      <td>64506</td>\n",
       "      <td>2014-04-19</td>\n",
       "      <td>Bill Hedge (D)</td>\n",
       "      <td>D</td>\n",
       "    </tr>\n",
       "  </tbody>\n",
       "</table>\n",
       "</div>"
      ],
      "text/plain": [
       "   amount         contributor_name  contributor_zipcode        date  \\\n",
       "0   40000           Evans, James S                65738  2014-03-07   \n",
       "1   30000         LIEBER, ARTHUR H                63141  2014-10-09   \n",
       "2   15000     Friends of Jim Evans                65738  2014-11-20   \n",
       "3   15000              Hedge, Bill                64506  2014-10-24   \n",
       "4   12118     Susan B Anthony List                  NaN  2014-04-04   \n",
       "5   10400             WARD, THOMAS                64112  2013-09-30   \n",
       "6   10000              JACOBY, TED                63127  2013-03-25   \n",
       "7   10000  Stocker, Barbara Hamill                63020  2014-03-04   \n",
       "8   10000           HOWSER, DONALD                65203  2013-02-25   \n",
       "9    9000              Hedge, Bill                64506  2014-04-19   \n",
       "\n",
       "               recipient_name recipient_party  \n",
       "0          James S. Evans (D)               D  \n",
       "1     Arthur Henry Lieber (D)               D  \n",
       "2          James S. Evans (D)               D  \n",
       "3              Bill Hedge (D)               D  \n",
       "4          Vicky Hartzler (R)               R  \n",
       "5          Vicky Hartzler (R)               R  \n",
       "6          Vicky Hartzler (R)               R  \n",
       "7  Barbara Hamill Stocker (D)               D  \n",
       "8          Vicky Hartzler (R)               R  \n",
       "9              Bill Hedge (D)               D  "
      ]
     },
     "execution_count": 65,
     "metadata": {},
     "output_type": "execute_result"
    }
   ],
   "source": [
    "df.head(10)"
   ]
  },
  {
   "cell_type": "code",
   "execution_count": 66,
   "metadata": {
    "collapsed": false
   },
   "outputs": [
    {
     "name": "stdout",
     "output_type": "stream",
     "text": [
      "                                            amount\n",
      "recipient_name             recipient_party        \n",
      "Arthur Henry Lieber (D)    D                  30.0\n",
      "Barbara Hamill Stocker (D) D                  58.4\n",
      "Bill Hedge (D)             D                  29.0\n",
      "Emanuel Cleaver (D)        D                 225.1\n",
      "Jack Rushin (D)            D                   3.0\n",
      "James S. Evans (D)         D                  75.2\n",
      "Nate Irvin (D)             D                   2.6\n",
      "Russ Carnahan (D)          D                   5.0\n",
      "Steve Hodges (D)           D                  38.8\n",
      "Todd Mahn (D)              D                   5.0\n",
      "William L. Clay Jr (D)     D                 137.0\n"
     ]
    }
   ],
   "source": [
    "# sort democrats\n",
    "dataD = df[df.recipient_party.str.contains('D').fillna(False)]\n",
    "dataD = dataD.groupby(['recipient_name', \"recipient_party\"])[['amount']].sum()\n",
    "dataD['amount'] = dataD['amount'] / 1000\n",
    "print dataD.head(30)"
   ]
  },
  {
   "cell_type": "code",
   "execution_count": 67,
   "metadata": {
    "collapsed": false
   },
   "outputs": [
    {
     "name": "stdout",
     "output_type": "stream",
     "text": [
      "                                         amount\n",
      "recipient_name         recipient_party         \n",
      "Ann L. Wagner (R)      R                958.250\n",
      "Billy Long (R)         R                382.140\n",
      "Blaine Luetkemeyer (R) R                480.400\n",
      "Jacob Turk (R)         R                 15.500\n",
      "Jason Smith (R)        R                495.233\n",
      "Jo Ann Emerson (R)     R                  3.000\n",
      "Roy Blunt (R)          R                 30.500\n",
      "Sam Graves (R)         R                307.200\n",
      "Vicky Hartzler (R)     R                430.318\n"
     ]
    }
   ],
   "source": [
    "# sort republicans\n",
    "dataR = df[df.recipient_party.str.contains('R').fillna(False)]\n",
    "dataR = dataR.groupby(['recipient_name', \"recipient_party\"])[['amount']].sum()\n",
    "dataR['amount'] = dataR['amount'] / 1000\n",
    "print dataR.head(30)"
   ]
  },
  {
   "cell_type": "code",
   "execution_count": 68,
   "metadata": {
    "collapsed": true
   },
   "outputs": [],
   "source": [
    "HDcsv = dataD.to_csv(\"HD.csv\")\n",
    "HRcsv = dataR.to_csv(\"HR.csv\")\n"
   ]
  },
  {
   "cell_type": "code",
   "execution_count": null,
   "metadata": {
    "collapsed": true
   },
   "outputs": [],
   "source": []
  }
 ],
 "metadata": {
  "kernelspec": {
   "display_name": "Python 2",
   "language": "python",
   "name": "python2"
  },
  "language_info": {
   "codemirror_mode": {
    "name": "ipython",
    "version": 2
   },
   "file_extension": ".py",
   "mimetype": "text/x-python",
   "name": "python",
   "nbconvert_exporter": "python",
   "pygments_lexer": "ipython2",
   "version": "2.7.10"
  }
 },
 "nbformat": 4,
 "nbformat_minor": 0
}
