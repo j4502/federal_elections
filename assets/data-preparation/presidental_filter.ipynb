{
 "cells": [
  {
   "cell_type": "code",
   "execution_count": 35,
   "metadata": {
    "collapsed": false
   },
   "outputs": [
    {
     "name": "stdout",
     "output_type": "stream",
     "text": [
      "Index([u'Unnamed: 0', u'amount', u'candidacy_status', u'committee_ext_id',\n",
      "       u'committee_name', u'committee_party', u'contributor_address',\n",
      "       u'contributor_category', u'contributor_city', u'contributor_employer',\n",
      "       u'contributor_ext_id', u'contributor_gender', u'contributor_name',\n",
      "       u'contributor_occupation', u'contributor_state', u'contributor_type',\n",
      "       u'contributor_zipcode', u'cycle', u'date', u'district',\n",
      "       u'district_held', u'filing_id', u'is_amendment', u'organization_ext_id',\n",
      "       u'organization_name', u'parent_organization_ext_id',\n",
      "       u'parent_organization_name', u'recipient_category', u'recipient_ext_id',\n",
      "       u'recipient_name', u'recipient_party', u'recipient_state',\n",
      "       u'recipient_state_held', u'recipient_type', u'seat', u'seat_held',\n",
      "       u'seat_result', u'seat_status', u'transaction_id',\n",
      "       u'transaction_namespace', u'transaction_type',\n",
      "       u'transaction_type_description'],\n",
      "      dtype='object')\n"
     ]
    }
   ],
   "source": [
    "import pandas as pd\n",
    "from pandas import DataFrame\n",
    "\n",
    "df = pd.read_csv(\"presidental.csv\")\n",
    "print(df.columns)"
   ]
  },
  {
   "cell_type": "code",
   "execution_count": 36,
   "metadata": {
    "collapsed": false
   },
   "outputs": [
    {
     "name": "stdout",
     "output_type": "stream",
     "text": [
      "Index([u'amount', u'contributor_name', u'contributor_zipcode', u'date',\n",
      "       u'recipient_name', u'recipient_party'],\n",
      "      dtype='object')\n"
     ]
    }
   ],
   "source": [
    "# delete unnecessary data\n",
    "df.drop(df.columns[[0,2,3,4,5,6,7,8,9,10,11,13,14,15,17,19,20,21,22,23,24,25,26, 27,28,31,32,33,34,35,36,37,38,39,40,41]], axis=1, inplace=True)\n",
    "print(df.columns)"
   ]
  },
  {
   "cell_type": "code",
   "execution_count": 37,
   "metadata": {
    "collapsed": false
   },
   "outputs": [
    {
     "data": {
      "text/html": [
       "<div>\n",
       "<table border=\"1\" class=\"dataframe\">\n",
       "  <thead>\n",
       "    <tr style=\"text-align: right;\">\n",
       "      <th></th>\n",
       "      <th>amount</th>\n",
       "      <th>contributor_name</th>\n",
       "      <th>contributor_zipcode</th>\n",
       "      <th>date</th>\n",
       "      <th>recipient_name</th>\n",
       "      <th>recipient_party</th>\n",
       "    </tr>\n",
       "  </thead>\n",
       "  <tbody>\n",
       "    <tr>\n",
       "      <th>0</th>\n",
       "      <td>2500</td>\n",
       "      <td>MERTZLUFFT, DOUG MR</td>\n",
       "      <td>63129</td>\n",
       "      <td>2012-11-05</td>\n",
       "      <td>Mitt Romney (R)</td>\n",
       "      <td>R</td>\n",
       "    </tr>\n",
       "    <tr>\n",
       "      <th>1</th>\n",
       "      <td>2500</td>\n",
       "      <td>WIESE, HAROLD E MR</td>\n",
       "      <td>63124</td>\n",
       "      <td>2012-11-02</td>\n",
       "      <td>Mitt Romney (R)</td>\n",
       "      <td>R</td>\n",
       "    </tr>\n",
       "    <tr>\n",
       "      <th>2</th>\n",
       "      <td>2500</td>\n",
       "      <td>OERTLI, RICK MR</td>\n",
       "      <td>63131</td>\n",
       "      <td>2012-11-02</td>\n",
       "      <td>Mitt Romney (R)</td>\n",
       "      <td>R</td>\n",
       "    </tr>\n",
       "    <tr>\n",
       "      <th>3</th>\n",
       "      <td>2500</td>\n",
       "      <td>WESTLOCK, MARK</td>\n",
       "      <td>63026</td>\n",
       "      <td>2012-11-02</td>\n",
       "      <td>Mitt Romney (R)</td>\n",
       "      <td>R</td>\n",
       "    </tr>\n",
       "    <tr>\n",
       "      <th>4</th>\n",
       "      <td>2500</td>\n",
       "      <td>HOWSER, DON</td>\n",
       "      <td>65203</td>\n",
       "      <td>2012-11-05</td>\n",
       "      <td>Mitt Romney (R)</td>\n",
       "      <td>R</td>\n",
       "    </tr>\n",
       "    <tr>\n",
       "      <th>5</th>\n",
       "      <td>2500</td>\n",
       "      <td>KACALIEFF, HARRIETTE MRS</td>\n",
       "      <td>63119</td>\n",
       "      <td>2012-11-08</td>\n",
       "      <td>Mitt Romney (R)</td>\n",
       "      <td>R</td>\n",
       "    </tr>\n",
       "    <tr>\n",
       "      <th>6</th>\n",
       "      <td>2500</td>\n",
       "      <td>SCHABERG, JAMES DR</td>\n",
       "      <td>63301</td>\n",
       "      <td>2012-08-18</td>\n",
       "      <td>Mitt Romney (R)</td>\n",
       "      <td>R</td>\n",
       "    </tr>\n",
       "    <tr>\n",
       "      <th>7</th>\n",
       "      <td>2500</td>\n",
       "      <td>KACALIEFF, HARRIETTE MRS</td>\n",
       "      <td>63119</td>\n",
       "      <td>2012-11-08</td>\n",
       "      <td>Mitt Romney (R)</td>\n",
       "      <td>R</td>\n",
       "    </tr>\n",
       "    <tr>\n",
       "      <th>8</th>\n",
       "      <td>2500</td>\n",
       "      <td>FARBER, RUDOLPH MR</td>\n",
       "      <td>64850</td>\n",
       "      <td>2012-11-02</td>\n",
       "      <td>Mitt Romney (R)</td>\n",
       "      <td>R</td>\n",
       "    </tr>\n",
       "    <tr>\n",
       "      <th>9</th>\n",
       "      <td>2500</td>\n",
       "      <td>KOMEN, WILLIAM J</td>\n",
       "      <td>63105</td>\n",
       "      <td>2012-09-18</td>\n",
       "      <td>Mitt Romney (R)</td>\n",
       "      <td>R</td>\n",
       "    </tr>\n",
       "  </tbody>\n",
       "</table>\n",
       "</div>"
      ],
      "text/plain": [
       "   amount          contributor_name  contributor_zipcode        date  \\\n",
       "0    2500       MERTZLUFFT, DOUG MR                63129  2012-11-05   \n",
       "1    2500        WIESE, HAROLD E MR                63124  2012-11-02   \n",
       "2    2500           OERTLI, RICK MR                63131  2012-11-02   \n",
       "3    2500            WESTLOCK, MARK                63026  2012-11-02   \n",
       "4    2500               HOWSER, DON                65203  2012-11-05   \n",
       "5    2500  KACALIEFF, HARRIETTE MRS                63119  2012-11-08   \n",
       "6    2500        SCHABERG, JAMES DR                63301  2012-08-18   \n",
       "7    2500  KACALIEFF, HARRIETTE MRS                63119  2012-11-08   \n",
       "8    2500        FARBER, RUDOLPH MR                64850  2012-11-02   \n",
       "9    2500          KOMEN, WILLIAM J                63105  2012-09-18   \n",
       "\n",
       "    recipient_name recipient_party  \n",
       "0  Mitt Romney (R)               R  \n",
       "1  Mitt Romney (R)               R  \n",
       "2  Mitt Romney (R)               R  \n",
       "3  Mitt Romney (R)               R  \n",
       "4  Mitt Romney (R)               R  \n",
       "5  Mitt Romney (R)               R  \n",
       "6  Mitt Romney (R)               R  \n",
       "7  Mitt Romney (R)               R  \n",
       "8  Mitt Romney (R)               R  \n",
       "9  Mitt Romney (R)               R  "
      ]
     },
     "execution_count": 37,
     "metadata": {},
     "output_type": "execute_result"
    }
   ],
   "source": [
    "df.head(10)"
   ]
  },
  {
   "cell_type": "code",
   "execution_count": 38,
   "metadata": {
    "collapsed": false
   },
   "outputs": [
    {
     "name": "stdout",
     "output_type": "stream",
     "text": [
      "Empty DataFrame\n",
      "Columns: [amount]\n",
      "Index: []\n"
     ]
    }
   ],
   "source": [
    "# sort democrats. No democrats so far\n",
    "dataD = df[df.recipient_party.str.contains('D').fillna(False)]\n",
    "dataD = dataD.groupby(['recipient_name', \"recipient_party\"])[['amount']].sum()\n",
    "dataD['amount'] = dataD['amount'] / 1000\n",
    "print dataD.head(30)"
   ]
  },
  {
   "cell_type": "code",
   "execution_count": 39,
   "metadata": {
    "collapsed": false
   },
   "outputs": [
    {
     "name": "stdout",
     "output_type": "stream",
     "text": [
      "                                                                amount\n",
      "contributor_name               recipient_name  recipient_party        \n",
      "American Assn of Orthodontists Mitt Romney (R) R                   1.0\n",
      "BEDELL, BRAD MR                Mitt Romney (R) R                   2.5\n",
      "CARR, JENNIFER                 Mitt Romney (R) R                   1.0\n",
      "CHENOWETH, MARY                Mitt Romney (R) R                   1.0\n",
      "EICHENBERGER, CARL MR          Mitt Romney (R) R                   1.5\n",
      "FARBER, RUDOLPH MR             Mitt Romney (R) R                   2.5\n",
      "FLEISCHUT, PAUL IJ MR          Mitt Romney (R) R                   1.0\n",
      "GLARNER, MARY MRS              Mitt Romney (R) R                   1.0\n",
      "GLARNER, ROBERT MR             Mitt Romney (R) R                   1.0\n",
      "HANMAN, GARY E MR              Mitt Romney (R) R                   1.0\n",
      "HERMANN-HOLTON, CARLOTA MS     Mitt Romney (R) R                   1.0\n",
      "HOWSER, DON                    Mitt Romney (R) R                   5.0\n",
      "KACALIEFF, HARRIETTE MRS       Mitt Romney (R) R                   5.0\n",
      "KOMEN, WILLIAM J               Mitt Romney (R) R                   5.0\n",
      "LIONBERGER, ERLE L MRS         Mitt Romney (R) R                   1.0\n",
      "MERTZLUFFT, DOUG MR            Mitt Romney (R) R                   2.5\n",
      "OERTLI, RICK MR                Mitt Romney (R) R                   2.5\n",
      "POHRER, JACK E MR              Mitt Romney (R) R                   1.0\n",
      "SCHABERG, JAMES DR             Mitt Romney (R) R                   2.5\n",
      "SELLINGER, JOSEPH P MR         Mitt Romney (R) R                   2.5\n",
      "SEVILLE, THOMAS                Mitt Romney (R) R                   1.8\n",
      "STEELMAN, MAXINE MRS           Mitt Romney (R) R                   2.4\n",
      "STUPP, JOHN P MR JR            Mitt Romney (R) R                   2.5\n",
      "STUPP, JULIE B MRS             Mitt Romney (R) R                   2.5\n",
      "VIRGIL, ROBERT L MR            Mitt Romney (R) R                   1.0\n",
      "WALLIS, LYNN                   Mitt Romney (R) R                   1.0\n",
      "WESTLOCK, MARK                 Mitt Romney (R) R                   2.5\n",
      "WIESE, HAROLD E MR             Mitt Romney (R) R                   2.5\n"
     ]
    }
   ],
   "source": [
    "# sort republicans\n",
    "dataR = df[df.recipient_party.str.contains('R').fillna(False)]\n",
    "dataR = dataR.groupby(['contributor_name',\"recipient_name\", \"recipient_party\"])[['amount']].sum()\n",
    "dataR['amount'] = dataR['amount'] / 1000\n",
    "print dataR.head(30)"
   ]
  },
  {
   "cell_type": "code",
   "execution_count": 40,
   "metadata": {
    "collapsed": true
   },
   "outputs": [],
   "source": [
    "PRcsv = dataR.to_csv(\"PR.csv\")\n"
   ]
  }
 ],
 "metadata": {
  "kernelspec": {
   "display_name": "Python 2",
   "language": "python",
   "name": "python2"
  },
  "language_info": {
   "codemirror_mode": {
    "name": "ipython",
    "version": 2
   },
   "file_extension": ".py",
   "mimetype": "text/x-python",
   "name": "python",
   "nbconvert_exporter": "python",
   "pygments_lexer": "ipython2",
   "version": "2.7.10"
  }
 },
 "nbformat": 4,
 "nbformat_minor": 0
}
